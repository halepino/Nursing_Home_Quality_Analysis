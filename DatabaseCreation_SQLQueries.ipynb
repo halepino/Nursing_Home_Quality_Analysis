{
 "cells": [
  {
   "cell_type": "markdown",
   "id": "cc5db860",
   "metadata": {},
   "source": [
    "## Term Project Milestone 5\n",
    "### Course: DSC 540\n",
    "### Author: Holly Figueroa\n",
    "### Objective: Upload and merge data frames to SQL database. Provide visualizations for data."
   ]
  },
  {
   "cell_type": "code",
   "execution_count": 1,
   "id": "ca644406",
   "metadata": {},
   "outputs": [],
   "source": [
    " #conn.close()"
   ]
  },
  {
   "cell_type": "code",
   "execution_count": 2,
   "id": "658f7724",
   "metadata": {},
   "outputs": [],
   "source": [
    "# Load libraries\n",
    "import sqlite3\n",
    "import pandas as pd\n",
    "import matplotlib.pyplot as plt\n",
    "import numpy as np"
   ]
  },
  {
   "cell_type": "markdown",
   "id": "61795478",
   "metadata": {},
   "source": [
    "The previous milestones have left me with two collections of dataframes to be merged into two separate tables. I will create a table of nursing home variables at the state level including averaged and sum data regarding all the nursing homes in the state, population demographics, and state spending. I will create a second table of nursing home variables at the county level including nursing home data for each county and county population demographics. "
   ]
  },
  {
   "cell_type": "code",
   "execution_count": 3,
   "id": "f9ace650",
   "metadata": {},
   "outputs": [],
   "source": [
    "# Bring in state level CSV files to dataframes to be merged\n",
    "state_nursing = pd.DataFrame(pd.read_csv('state_nursing.csv'))\n",
    "state_people = pd.DataFrame(pd.read_csv('state_people.csv'))\n",
    "state_spending = pd.DataFrame(pd.read_csv('state_spending.csv'))\n",
    "\n",
    "\n",
    "# Bring in county level CSV files to dataframes be merged\n",
    "county_nursing = pd.DataFrame(pd.read_csv('county_nursing.csv'))\n",
    "county_people = pd.DataFrame(pd.read_csv('county_people.csv'))"
   ]
  },
  {
   "cell_type": "code",
   "execution_count": 4,
   "id": "4beb9763",
   "metadata": {},
   "outputs": [],
   "source": [
    "# Connect python to SQL server and create new database file\n",
    "conn = sqlite3.connect('USA_nursing.db')"
   ]
  },
  {
   "cell_type": "code",
   "execution_count": 5,
   "id": "65e7869a",
   "metadata": {},
   "outputs": [],
   "source": [
    "# function to confirm a database connection is open\n",
    "def check_connection(conn):\n",
    "    try:\n",
    "        conn.cursor()\n",
    "        return True\n",
    "    except Exception as ex:\n",
    "        return False"
   ]
  },
  {
   "cell_type": "code",
   "execution_count": 6,
   "id": "78207095",
   "metadata": {},
   "outputs": [
    {
     "data": {
      "text/plain": [
       "True"
      ]
     },
     "execution_count": 6,
     "metadata": {},
     "output_type": "execute_result"
    }
   ],
   "source": [
    "check_connection(conn)"
   ]
  },
  {
   "cell_type": "code",
   "execution_count": 7,
   "id": "ea0eb4d0",
   "metadata": {},
   "outputs": [],
   "source": [
    "# Create cursor to interact with database using commands\n",
    "c = conn.cursor()"
   ]
  },
  {
   "cell_type": "code",
   "execution_count": 8,
   "id": "38cb9331",
   "metadata": {},
   "outputs": [
    {
     "data": {
      "text/plain": [
       "<sqlite3.Cursor at 0x219e661a960>"
      ]
     },
     "execution_count": 8,
     "metadata": {},
     "output_type": "execute_result"
    }
   ],
   "source": [
    "# STATE NURSING 1/3 STATE TABLES\n",
    "# Creating a table called state starting with data from \n",
    "# Naming columns and identifying their data type\n",
    "c.execute('''\n",
    "            CREATE TABLE state (\n",
    "                state TEXT PRIMARY KEY, \n",
    "                overall_rating FLOAT, \n",
    "                health_insp_rating FLOAT,\n",
    "                qm_rating FLOAT,\n",
    "                longstay_qm_rating FLOAT,\n",
    "                shortstay_qm_rating FLOAT, \n",
    "                staffing_rating FLOAT,\n",
    "                rn_staffing_rating FLOAT,\n",
    "                nursing_turnover FLOAT,\n",
    "                rn_turnover FLOAT,\n",
    "                admin_turnover FLOAT,\n",
    "                nurse_aide_hrspres FLOAT,\n",
    "                lpn_hrspres FLOAT,\n",
    "                rn_hrspres FLOAT,\n",
    "                total_nurse_hrspres FLOAT,\n",
    "                total_weighted_health_survey_score FLOAT,\n",
    "                nursing_home_count INT,\n",
    "                reported_incidents INT,\n",
    "                substantiated_complaints INT,\n",
    "                infection_control_citations INT,\n",
    "                num_fines INT,\n",
    "                fines_dollar_total FLOAT,\n",
    "                num_payment_denials INT,\n",
    "                total_penalties FLOAT\n",
    "                )\n",
    "            ''')\n",
    "       "
   ]
  },
  {
   "cell_type": "code",
   "execution_count": 9,
   "id": "460cc4ae",
   "metadata": {},
   "outputs": [],
   "source": [
    "state_nursing.to_sql(con = conn, name = 'state', if_exists = 'append', index = False)"
   ]
  },
  {
   "cell_type": "code",
   "execution_count": 10,
   "id": "895968cd",
   "metadata": {},
   "outputs": [
    {
     "name": "stdout",
     "output_type": "stream",
     "text": [
      "53\n"
     ]
    }
   ],
   "source": [
    "# Check length equals df length 53\n",
    "rows = c.execute(\"SELECT * FROM state\")\n",
    "\n",
    "# Create counter variable\n",
    "length = 0\n",
    "\n",
    "# Iterate through rows fo data to get row count\n",
    "for row in rows:\n",
    "    length+=1\n",
    "print(length )   "
   ]
  },
  {
   "cell_type": "code",
   "execution_count": 11,
   "id": "e341b57d",
   "metadata": {},
   "outputs": [
    {
     "name": "stdout",
     "output_type": "stream",
     "text": [
      "('Alaska', 3.85, 2.83, 4.0, 3.85, 4.7, 4.82, 4.82, 53.36, 46.96, 0.76, 4.9, 0.68, 2.91, 8.29, 100.2762261904762, 20, 80, 20, 24, 49, 876398.07, 0, 49.0)\n",
      "('Alabama', 3.66, 3.19, 3.65, 3.49, 3.56, 3.4, 3.32, 47.54, 38.7, 1.07, 2.45, 1.01, 0.73, 4.14, 22.161920232869267, 227, 62, 113, 60, 198, 2366700.8400000003, 7, 205.0)\n",
      "('Arkansas', 3.28, 3.05, 3.58, 3.8, 3.3, 2.8, 2.33, 55.52, 51.13, 0.57, 2.64, 1.14, 0.5, 4.27, 72.46768665812384, 220, 58, 1048, 955, 381, 4196949.58, 44, 425.0)\n",
      "('Arizona', 2.99, 2.46, 3.86, 3.84, 3.82, 3.09, 3.4, 55.11, 55.81, 1.0, 2.06, 0.88, 0.83, 3.74, 82.69835858585859, 142, 219, 151, 220, 235, 1803487.13, 11, 246.0)\n",
      "('California', 3.28, 2.86, 4.12, 4.11, 4.04, 2.78, 2.44, 49.73, 53.02, 1.0, 2.6, 1.23, 0.64, 4.43, 89.4209218632812, 1176, 4470, 8543, 1683, 1996, 21527811.480000004, 77, 2073.0)\n"
     ]
    }
   ],
   "source": [
    "# Print some of the rows to check\n",
    "rows5 = c.execute(\"SELECT * FROM state LIMIT 5\")\n",
    "\n",
    "# Iterate through rows and print\n",
    "for row in rows5:\n",
    "    print(row)"
   ]
  },
  {
   "cell_type": "code",
   "execution_count": 12,
   "id": "b2359f0d",
   "metadata": {},
   "outputs": [],
   "source": [
    "# Commiting changes\n",
    "conn.commit()"
   ]
  },
  {
   "cell_type": "code",
   "execution_count": 13,
   "id": "2373e199",
   "metadata": {},
   "outputs": [
    {
     "data": {
      "text/plain": [
       "Index(['State', 'Population', 'Race_White', 'Race_Black', 'Race_Asian',\n",
       "       'Race_Native', 'Race_Hispanic', 'Race_Multi', 'Alone_65', 'Under18',\n",
       "       'Over65', 'UnderHS', 'Ed_HSDiploma', 'Ed_SomeCollege', 'Ed_Assoc',\n",
       "       'Ed_Degree'],\n",
       "      dtype='object')"
      ]
     },
     "execution_count": 13,
     "metadata": {},
     "output_type": "execute_result"
    }
   ],
   "source": [
    "# View columns to copy as table headers\n",
    "state_people.columns"
   ]
  },
  {
   "cell_type": "code",
   "execution_count": 14,
   "id": "1ab2cf5e",
   "metadata": {},
   "outputs": [
    {
     "data": {
      "text/plain": [
       "<sqlite3.Cursor at 0x219e661a960>"
      ]
     },
     "execution_count": 14,
     "metadata": {},
     "output_type": "execute_result"
    }
   ],
   "source": [
    "# STATE PEOPLE 2/3 STATE TABLES\n",
    "c.execute('''\n",
    "            CREATE TABLE state2 (\n",
    "                state TEXT PRIMARY KEY, \n",
    "                Population INT,\n",
    "                Race_White FLOAT, \n",
    "                Race_Black FLOAT,\n",
    "                Race_Asian FLOAT,\n",
    "                Race_Native FLOAT,\n",
    "                Race_Hispanic FLOAT,\n",
    "                Race_Multi FLOAT,\n",
    "                Alone_65 FLOAT,                \n",
    "                Under18 FLOAT,\n",
    "                Over65 FLOAT,\n",
    "                UnderHS FLOAT,\n",
    "                Ed_HSDiploma FLOAT,\n",
    "                Ed_SomeCollege FLOAT,\n",
    "                Ed_Assoc FLOAT,\n",
    "                Ed_Degree FLOAT\n",
    "                )\n",
    "            ''')\n"
   ]
  },
  {
   "cell_type": "code",
   "execution_count": 15,
   "id": "0cbcba10",
   "metadata": {},
   "outputs": [],
   "source": [
    "state_people.to_sql(con = conn, name = 'state2', if_exists = 'append', index = False)"
   ]
  },
  {
   "cell_type": "code",
   "execution_count": 16,
   "id": "9312b26c",
   "metadata": {},
   "outputs": [
    {
     "name": "stdout",
     "output_type": "stream",
     "text": [
      "('Alaska', 1463090, 62.24, 3.0, 5.12, 14.02, 5.37, 7.09, 2.69, 26.43, 7.74, 7.22, 28.12, 26.7, 8.53, 29.42)\n",
      "('Alabama', 9806370, 65.35, 25.38, 1.08, 0.53, 3.79, 1.45, 4.45, 23.69, 13.73, 13.78, 30.74, 21.41, 8.5, 25.58)\n",
      "('Arkansas', 6035608, 72.02, 14.82, 1.18, 0.67, 6.17, 1.89, 4.49, 24.44, 14.32, 13.41, 33.94, 22.32, 7.14, 23.19)\n",
      "('Arizona', 14557434, 50.77, 3.28, 2.34, 3.54, 26.04, 3.0, 3.93, 25.51, 13.75, 12.87, 23.83, 25.16, 8.62, 29.52)\n",
      "('California', 79024446, 37.85, 5.48, 12.09, 0.41, 35.47, 4.59, 3.14, 24.96, 11.4, 16.78, 20.57, 21.11, 7.85, 33.69)\n"
     ]
    }
   ],
   "source": [
    "# Print some of the rows to check\n",
    "rows5 = c.execute(\"SELECT * FROM state2 LIMIT 5\")\n",
    "\n",
    "# Iterate through rows and print\n",
    "for row in rows5:\n",
    "    print(row)"
   ]
  },
  {
   "cell_type": "code",
   "execution_count": 17,
   "id": "cf9b5f48",
   "metadata": {},
   "outputs": [
    {
     "data": {
      "text/plain": [
       "Index(['State', 'Millions', 'PC_Basic_Ed', 'PC_Higher_Ed', 'PC_Public_Assist',\n",
       "       'PC_Medicaid', 'PC_Corrections', 'PC_Transportation', 'PC_Other',\n",
       "       'PC_Total'],\n",
       "      dtype='object')"
      ]
     },
     "execution_count": 17,
     "metadata": {},
     "output_type": "execute_result"
    }
   ],
   "source": [
    "state_spending.columns"
   ]
  },
  {
   "cell_type": "code",
   "execution_count": 18,
   "id": "2ec3c339",
   "metadata": {},
   "outputs": [
    {
     "data": {
      "text/plain": [
       "<sqlite3.Cursor at 0x219e661a960>"
      ]
     },
     "execution_count": 18,
     "metadata": {},
     "output_type": "execute_result"
    }
   ],
   "source": [
    "# STATE SPENDING 3/3 STATE TABLES\n",
    "# Create table using df headers\n",
    "c.execute('''\n",
    "            CREATE TABLE state3 (\n",
    "                state TEXT PRIMARY KEY,\n",
    "                Millions INT,              \n",
    "                PC_Basic_Ed,\n",
    "                PC_Higher_Ed,\n",
    "                PC_Public_Assist,\n",
    "                PC_Medicaid,\n",
    "                PC_Corrections,\n",
    "                PC_Transportation,\n",
    "                PC_Other,\n",
    "                PC_Total\n",
    "                )\n",
    "            ''')"
   ]
  },
  {
   "cell_type": "code",
   "execution_count": 19,
   "id": "630c24a6",
   "metadata": {},
   "outputs": [],
   "source": [
    "# Append rows to state funding table\n",
    "state_spending.to_sql(con = conn, name = 'state3', if_exists = 'append', index = False)"
   ]
  },
  {
   "cell_type": "code",
   "execution_count": 20,
   "id": "455c8479",
   "metadata": {},
   "outputs": [
    {
     "name": "stdout",
     "output_type": "stream",
     "text": [
      "('Alabama', 19138, 0.266, 0.26, 0.0, 0.09, 0.036, 0.039, 0.308, 1.0)\n",
      "('Alaska', 7123, 0.199, 0.086, 0.008, 0.09, 0.049, 0.072, 0.495, 1.0)\n",
      "('Arizona', 23401, 0.24, 0.247, 0.0, 0.143, 0.056, 0.092, 0.222, 1.0)\n",
      "('Arkansas', 18221, 0.169, 0.208, 0.011, 0.089, 0.029, 0.059, 0.434, 1.0)\n",
      "('California', 201372, 0.26, 0.082, 0.027, 0.176, 0.078, 0.071, 0.306, 1.0)\n"
     ]
    }
   ],
   "source": [
    "# Print some of the rows to check\n",
    "rows5 = c.execute(\"SELECT * FROM state3 LIMIT 5\")\n",
    "\n",
    "# Iterate through rows and print\n",
    "for row in rows5:\n",
    "    print(row)"
   ]
  },
  {
   "cell_type": "code",
   "execution_count": 21,
   "id": "8faff8fc",
   "metadata": {},
   "outputs": [],
   "source": [
    "# Commit changes\n",
    "conn.commit()"
   ]
  },
  {
   "cell_type": "markdown",
   "id": "3fdaabde",
   "metadata": {},
   "source": [
    "Now all there are three tables in my database; state, state2, and state3. All share a primary key for 'state' to make them easy to merge. Now I will create 2 tables for county level information on state population and nursing homes."
   ]
  },
  {
   "cell_type": "code",
   "execution_count": 22,
   "id": "bc06bd29",
   "metadata": {},
   "outputs": [
    {
     "data": {
      "text/plain": [
       "Index(['state_county', 'nursing_home_count', 'overall_rating',\n",
       "       'health_insp_rating', 'qm_rating', 'longstay_qm_rating',\n",
       "       'shortstay_qm_rating', 'staffing_rating', 'rn_staffing_rating',\n",
       "       'nursing_turnover', 'rn_turnover', 'admin_turnover',\n",
       "       'nurse_aide_hrspres', 'lpn_hrspres', 'rn_hrspres',\n",
       "       'total_nurse_hrspres', 'total_weighted_health_survey_score',\n",
       "       'reported_incidents', 'substantiated_complaints',\n",
       "       'infection_control_citations', 'num_fines', 'fines_dollar_total',\n",
       "       'num_payment_denials', 'total_penalties'],\n",
       "      dtype='object')"
      ]
     },
     "execution_count": 22,
     "metadata": {},
     "output_type": "execute_result"
    }
   ],
   "source": [
    "# View columns for first dataframe to create sql table\n",
    "county_nursing.columns"
   ]
  },
  {
   "cell_type": "code",
   "execution_count": 23,
   "id": "6a0bc5fe",
   "metadata": {},
   "outputs": [
    {
     "data": {
      "text/plain": [
       "<sqlite3.Cursor at 0x219e661a960>"
      ]
     },
     "execution_count": 23,
     "metadata": {},
     "output_type": "execute_result"
    }
   ],
   "source": [
    "# COUNTY NURSING 1/2 COUNTY TABLES\n",
    "# Creating a table called county starting with data from county_nursing\n",
    "# Naming columns and identifying their data type\n",
    "c.execute('''\n",
    "            CREATE TABLE county (\n",
    "                state_county TEXT PRIMARY KEY, \n",
    "                nursing_home_count INT,\n",
    "                overall_rating FLOAT, \n",
    "                health_insp_rating FLOAT,\n",
    "                qm_rating FLOAT,\n",
    "                longstay_qm_rating FLOAT,\n",
    "                shortstay_qm_rating FLOAT, \n",
    "                staffing_rating FLOAT,\n",
    "                rn_staffing_rating FLOAT,\n",
    "                nursing_turnover FLOAT,\n",
    "                rn_turnover FLOAT,\n",
    "                admin_turnover FLOAT,\n",
    "                nurse_aide_hrspres FLOAT,\n",
    "                lpn_hrspres FLOAT,\n",
    "                rn_hrspres FLOAT,\n",
    "                total_nurse_hrspres FLOAT,\n",
    "                total_weighted_health_survey_score FLOAT,\n",
    "                reported_incidents INT,\n",
    "                substantiated_complaints INT,\n",
    "                infection_control_citations INT,\n",
    "                num_fines INT,\n",
    "                fines_dollar_total FLOAT,\n",
    "                num_payment_denials INT,\n",
    "                total_penalties FLOAT\n",
    "                )\n",
    "            ''')\n",
    "       "
   ]
  },
  {
   "cell_type": "code",
   "execution_count": 24,
   "id": "e550dc46",
   "metadata": {},
   "outputs": [],
   "source": [
    "# Append rows to county table\n",
    "county_nursing.to_sql(con = conn, name = 'county', if_exists = 'append', index = False)"
   ]
  },
  {
   "cell_type": "code",
   "execution_count": 25,
   "id": "76fd3f95",
   "metadata": {},
   "outputs": [
    {
     "name": "stdout",
     "output_type": "stream",
     "text": [
      "('AL, Franklin', 4, 4.25, 4.0, 4.25, 4.5, 3.5, 4.0, 4.5, 54.1, 55.57, 1.0, 2.17, 0.89, 1.09, 4.05, 11.5, 0, 0, 0, 1, 655.14, 0, 1.0)\n",
      "('AL, Talladega', 3, 4.0, 3.67, 2.67, 2.0, 2.33, 3.67, 3.33, 56.3, 42.2, 1.0, 2.66, 1.0, 0.74, 4.36, 13.778, 0, 0, 0, 1, 650.0, 0, 1.0)\n",
      "('AL, Jackson', 3, 2.33, 2.67, 2.33, 2.0, 3.0, 2.0, 2.0, 52.5, 33.3, 1.0, 2.4, 0.97, 0.78, 4.09, 20.22233333333333, 0, 0, 1, 3, 2932.71, 0, 3.0)\n",
      "('AL, Jefferson', 34, 2.15, 2.09, 3.12, 3.15, 3.07, 2.65, 2.59, 58.28, 55.07, 1.45, 2.17, 1.02, 0.57, 3.72, 34.666647058823536, 9, 39, 16, 37, 343424.26000000007, 1, 38.0)\n",
      "('AL, Limestone', 2, 2.0, 2.0, 3.5, 3.5, 3.5, 2.5, 2.5, 50.0, 42.75, 1.0, 1.85, 0.88, 0.5, 3.19, 23.0, 3, 4, 0, 0, 0.0, 0, 0.0)\n"
     ]
    }
   ],
   "source": [
    "# Print some of the rows to check\n",
    "rows5 = c.execute(\"SELECT * FROM county LIMIT 5\")\n",
    "\n",
    "# Iterate through rows and print\n",
    "for row in rows5:\n",
    "    print(row)"
   ]
  },
  {
   "cell_type": "code",
   "execution_count": 26,
   "id": "1fb01d15",
   "metadata": {},
   "outputs": [
    {
     "data": {
      "text/plain": [
       "Index(['state_county', 'Population', 'Race_White', 'Race_Black', 'Race_Asian',\n",
       "       'Race_Native', 'Race_Hispanic', 'Race_Multi', 'Alone_65', 'Under18',\n",
       "       'Over65', 'UnderHS', 'Ed_HSDiploma', 'Ed_SomeCollege', 'Ed_Assoc',\n",
       "       'Ed_Degree'],\n",
       "      dtype='object')"
      ]
     },
     "execution_count": 26,
     "metadata": {},
     "output_type": "execute_result"
    }
   ],
   "source": [
    "# View county people columns to use to make table headers\n",
    "county_people.columns"
   ]
  },
  {
   "cell_type": "code",
   "execution_count": 27,
   "id": "31a11d5f",
   "metadata": {},
   "outputs": [
    {
     "data": {
      "text/plain": [
       "<sqlite3.Cursor at 0x219e661a960>"
      ]
     },
     "execution_count": 27,
     "metadata": {},
     "output_type": "execute_result"
    }
   ],
   "source": [
    "# COUNTY PEOPLE 2/2 COUNTY TABLES\n",
    "# Create table headers\n",
    "c.execute('''\n",
    "            CREATE TABLE county2 (\n",
    "                state_county TEXT PRIMARY KEY, \n",
    "                Population INT,\n",
    "                Race_White FLOAT, \n",
    "                Race_Black FLOAT,\n",
    "                Race_Asian FLOAT,\n",
    "                Race_Native FLOAT,\n",
    "                Race_Hispanic FLOAT,\n",
    "                Race_Multi FLOAT,\n",
    "                Alone_65 FLOAT,                \n",
    "                Under18 FLOAT,\n",
    "                Over65 FLOAT,\n",
    "                UnderHS FLOAT,\n",
    "                Ed_HSDiploma FLOAT,\n",
    "                Ed_SomeCollege FLOAT,\n",
    "                Ed_Assoc FLOAT,\n",
    "                Ed_Degree FLOAT\n",
    "                )\n",
    "            ''')"
   ]
  },
  {
   "cell_type": "code",
   "execution_count": 28,
   "id": "7bb701d4",
   "metadata": {},
   "outputs": [],
   "source": [
    "# Append rows to county2 table\n",
    "county_people.to_sql(con = conn, name = 'county2', if_exists = 'append', index = False)"
   ]
  },
  {
   "cell_type": "code",
   "execution_count": 29,
   "id": "10a1208c",
   "metadata": {},
   "outputs": [
    {
     "name": "stdout",
     "output_type": "stream",
     "text": [
      "('AK, Alaska', 731545, 62.24, 3.0, 5.12, 14.02, 5.37, 7.09, 2.69, 26.38, 7.74, 7.15, 28.0, 26.74, 8.55, 29.55)\n",
      "('AK, Aleutians East', 3337, 12.74, 6.35, 33.35, 26.04, 11.54, 4.58, 2.07, 11.81, 4.94, 14.53, 43.45, 25.11, 5.39, 11.51)\n",
      "('AK, Aleutians West', 5634, 30.97, 5.64, 27.96, 14.93, 12.89, 5.52, 1.3, 14.66, 3.46, 10.54, 39.03, 26.27, 7.12, 17.04)\n",
      "('AK, Anchorage', 288000, 63.48, 5.32, 8.06, 7.66, 7.66, 8.21, 2.63, 25.97, 7.24, 6.1, 23.42, 25.4, 8.97, 36.11)\n",
      "('AK, Bethel', 18386, 10.08, 0.35, 0.86, 76.45, 0.98, 3.88, 0.84, 36.55, 6.12, 19.09, 46.42, 18.0, 4.61, 11.88)\n"
     ]
    }
   ],
   "source": [
    "# Print some of the rows to check\n",
    "rows5 = c.execute(\"SELECT * FROM county2 LIMIT 5\")\n",
    "\n",
    "# Iterate through rows and print\n",
    "for row in rows5:\n",
    "    print(row)"
   ]
  },
  {
   "cell_type": "code",
   "execution_count": 30,
   "id": "f3cd37df",
   "metadata": {},
   "outputs": [],
   "source": [
    "conn.commit()"
   ]
  },
  {
   "cell_type": "markdown",
   "id": "a011ad3f",
   "metadata": {},
   "source": [
    "Now I have 2 tables at the county level for nursing homes and population; county and county2 and. They both have a state_county primary key and should be ready to merge for queries. Leaving me 5 tables total to query. My visualizations will based on questions I will pose at the start of each code section. "
   ]
  },
  {
   "cell_type": "markdown",
   "id": "5aa20916",
   "metadata": {},
   "source": [
    "1. Are there any noticable differences between the education level of communities that have lower verses higher quality of nursing homes? "
   ]
  },
  {
   "cell_type": "code",
   "execution_count": 31,
   "id": "40611db6",
   "metadata": {},
   "outputs": [
    {
     "name": "stdout",
     "output_type": "stream",
     "text": [
      "(3.065271777003484, 5.0, 1.0)\n"
     ]
    }
   ],
   "source": [
    "# Find Average, Max, and Min overall_quality for nursing homes\n",
    "avg = c.execute(''' SELECT AVG(overall_rating), MAX(overall_rating), MIN(overall_rating) FROM county''')\n",
    "for row in avg:\n",
    "    print(row)"
   ]
  },
  {
   "cell_type": "code",
   "execution_count": 32,
   "id": "a2242a38",
   "metadata": {},
   "outputs": [
    {
     "data": {
      "text/html": [
       "<div>\n",
       "<style scoped>\n",
       "    .dataframe tbody tr th:only-of-type {\n",
       "        vertical-align: middle;\n",
       "    }\n",
       "\n",
       "    .dataframe tbody tr th {\n",
       "        vertical-align: top;\n",
       "    }\n",
       "\n",
       "    .dataframe thead th {\n",
       "        text-align: right;\n",
       "    }\n",
       "</style>\n",
       "<table border=\"1\" class=\"dataframe\">\n",
       "  <thead>\n",
       "    <tr style=\"text-align: right;\">\n",
       "      <th></th>\n",
       "      <th>AVG(UnderHS)</th>\n",
       "      <th>AVG(Ed_HSDiploma)</th>\n",
       "      <th>AVG(Ed_SomeCollege)</th>\n",
       "      <th>AVG(Ed_Assoc)</th>\n",
       "      <th>AVG(Ed_Degree)</th>\n",
       "    </tr>\n",
       "  </thead>\n",
       "  <tbody>\n",
       "    <tr>\n",
       "      <th>0</th>\n",
       "      <td>14.902709</td>\n",
       "      <td>36.338094</td>\n",
       "      <td>21.355753</td>\n",
       "      <td>8.326823</td>\n",
       "      <td>19.077124</td>\n",
       "    </tr>\n",
       "  </tbody>\n",
       "</table>\n",
       "</div>"
      ],
      "text/plain": [
       "   AVG(UnderHS)  AVG(Ed_HSDiploma)  AVG(Ed_SomeCollege)  AVG(Ed_Assoc)  \\\n",
       "0     14.902709          36.338094            21.355753       8.326823   \n",
       "\n",
       "   AVG(Ed_Degree)  \n",
       "0       19.077124  "
      ]
     },
     "execution_count": 32,
     "metadata": {},
     "output_type": "execute_result"
    }
   ],
   "source": [
    "# Create a threshold of 2 or less for lower quality rated nursing homes\n",
    "# Query Avereage Education of Counties with under-average nursing home ratings \"overall\"\n",
    "q1 = \"\"\"SELECT AVG(UnderHS),\n",
    "                AVG(Ed_HSDiploma),\n",
    "                AVG(Ed_SomeCollege),\n",
    "                AVG(Ed_Assoc),\n",
    "                AVG(Ed_Degree)         \n",
    "        FROM county2 JOIN county \n",
    "            ON county2.state_county = county.state_county\n",
    "        WHERE county.overall_rating < 2\n",
    "    \"\"\"\n",
    "# Read sql into dataframe and view\n",
    "df1= pd.read_sql(q1, conn)\n",
    "df1"
   ]
  },
  {
   "cell_type": "code",
   "execution_count": 33,
   "id": "9742ea73",
   "metadata": {},
   "outputs": [
    {
     "data": {
      "text/html": [
       "<div>\n",
       "<style scoped>\n",
       "    .dataframe tbody tr th:only-of-type {\n",
       "        vertical-align: middle;\n",
       "    }\n",
       "\n",
       "    .dataframe tbody tr th {\n",
       "        vertical-align: top;\n",
       "    }\n",
       "\n",
       "    .dataframe thead th {\n",
       "        text-align: right;\n",
       "    }\n",
       "</style>\n",
       "<table border=\"1\" class=\"dataframe\">\n",
       "  <thead>\n",
       "    <tr style=\"text-align: right;\">\n",
       "      <th></th>\n",
       "      <th>AVG(UnderHS)</th>\n",
       "      <th>AVG(Ed_HSDiploma)</th>\n",
       "      <th>AVG(Ed_SomeCollege)</th>\n",
       "      <th>AVG(Ed_Assoc)</th>\n",
       "      <th>AVG(Ed_Degree)</th>\n",
       "    </tr>\n",
       "  </thead>\n",
       "  <tbody>\n",
       "    <tr>\n",
       "      <th>0</th>\n",
       "      <td>12.669729</td>\n",
       "      <td>34.680759</td>\n",
       "      <td>21.879621</td>\n",
       "      <td>9.641897</td>\n",
       "      <td>21.127236</td>\n",
       "    </tr>\n",
       "  </tbody>\n",
       "</table>\n",
       "</div>"
      ],
      "text/plain": [
       "   AVG(UnderHS)  AVG(Ed_HSDiploma)  AVG(Ed_SomeCollege)  AVG(Ed_Assoc)  \\\n",
       "0     12.669729          34.680759            21.879621       9.641897   \n",
       "\n",
       "   AVG(Ed_Degree)  \n",
       "0       21.127236  "
      ]
     },
     "execution_count": 33,
     "metadata": {},
     "output_type": "execute_result"
    }
   ],
   "source": [
    "# Create a threshold for higher quality ratings at 4 or more \n",
    "# Query Average Education of counties with over average nursing home ratings \"overall\"\n",
    "q1p2 = \"\"\"SELECT AVG(UnderHS),\n",
    "                AVG(Ed_HSDiploma),\n",
    "                AVG(Ed_SomeCollege),\n",
    "                AVG(Ed_Assoc),\n",
    "                AVG(Ed_Degree)         \n",
    "        FROM county2 JOIN county \n",
    "            ON county2.state_county = county.state_county\n",
    "        WHERE county.overall_rating > 4\n",
    "    \"\"\"\n",
    "# Read sql into dataframe and view\n",
    "df1p2= pd.read_sql(q1p2, conn)\n",
    "df1p2"
   ]
  },
  {
   "cell_type": "code",
   "execution_count": 34,
   "id": "706a279e",
   "metadata": {},
   "outputs": [],
   "source": [
    "less_quality = df1.iloc[0].values\n",
    "more_quality = df1p2.iloc[0].values"
   ]
  },
  {
   "cell_type": "code",
   "execution_count": 35,
   "id": "8be2c96b",
   "metadata": {},
   "outputs": [
    {
     "data": {
      "image/png": "[encoded data removed]",
      "text/plain": [
       "<Figure size 432x288 with 1 Axes>"
      ]
     },
     "metadata": {
      "needs_background": "light"
     },
     "output_type": "display_data"
    }
   ],
   "source": [
    "# VISUALIZATION 1\n",
    "# Create a paired bar chart for high and low rated nursing homes along with population percentages for education level\n",
    "# create values for tick marks, and desired width\n",
    "x = np.arange(5)\n",
    "width = 0.2\n",
    "\n",
    "# plot data for bar type visualization\n",
    "plt.bar(x-0.1, less_quality, width, color='cyan')\n",
    "plt.bar(x+0.1, more_quality, width, color='green')\n",
    "plt.xticks(x, ['Under HS', 'HS Diploma', 'Some College', '2-Associates', '4-Degree'])\n",
    "\n",
    "# Add labels, legend, and title\n",
    "plt.xlabel(\"\\n Highest Level Education Attained\")\n",
    "plt.ylabel(\"% Population\")\n",
    "plt.legend([\"Lower Nursing Home Quality\", \"Higher Nursing Home Quality\"])\n",
    "plt.title(\"COMMUNITY EDUCATION LEVEL VS NURSING HOME QUALITY\")\n",
    "plt.show()"
   ]
  },
  {
   "cell_type": "markdown",
   "id": "32ba721f",
   "metadata": {},
   "source": [
    "Here does appear to be a difference in the education level of the overall community and the quality of nursing homes within it. Higher quality nursing homes appear to be more commonly found in communities with greater numbers of more educated people. "
   ]
  },
  {
   "cell_type": "markdown",
   "id": "91860ccd",
   "metadata": {},
   "source": [
    "2. Does state funding for medicaid relate to nursing home quality?"
   ]
  },
  {
   "cell_type": "code",
   "execution_count": 37,
   "id": "0f94c5e5",
   "metadata": {},
   "outputs": [
    {
     "data": {
      "text/html": [
       "<div>\n",
       "<style scoped>\n",
       "    .dataframe tbody tr th:only-of-type {\n",
       "        vertical-align: middle;\n",
       "    }\n",
       "\n",
       "    .dataframe tbody tr th {\n",
       "        vertical-align: top;\n",
       "    }\n",
       "\n",
       "    .dataframe thead th {\n",
       "        text-align: right;\n",
       "    }\n",
       "</style>\n",
       "<table border=\"1\" class=\"dataframe\">\n",
       "  <thead>\n",
       "    <tr style=\"text-align: right;\">\n",
       "      <th></th>\n",
       "      <th>Quality Rating</th>\n",
       "      <th>Medicaid Dollars Per Citizen</th>\n",
       "    </tr>\n",
       "  </thead>\n",
       "  <tbody>\n",
       "    <tr>\n",
       "      <th>0</th>\n",
       "      <td>3.85</td>\n",
       "      <td>438.0</td>\n",
       "    </tr>\n",
       "    <tr>\n",
       "      <th>1</th>\n",
       "      <td>3.66</td>\n",
       "      <td>176.0</td>\n",
       "    </tr>\n",
       "    <tr>\n",
       "      <th>2</th>\n",
       "      <td>3.28</td>\n",
       "      <td>269.0</td>\n",
       "    </tr>\n",
       "    <tr>\n",
       "      <th>3</th>\n",
       "      <td>2.99</td>\n",
       "      <td>230.0</td>\n",
       "    </tr>\n",
       "    <tr>\n",
       "      <th>4</th>\n",
       "      <td>3.28</td>\n",
       "      <td>448.0</td>\n",
       "    </tr>\n",
       "  </tbody>\n",
       "</table>\n",
       "</div>"
      ],
      "text/plain": [
       "   Quality Rating  Medicaid Dollars Per Citizen\n",
       "0            3.85                         438.0\n",
       "1            3.66                         176.0\n",
       "2            3.28                         269.0\n",
       "3            2.99                         230.0\n",
       "4            3.28                         448.0"
      ]
     },
     "execution_count": 37,
     "metadata": {},
     "output_type": "execute_result"
    }
   ],
   "source": [
    "# Query all three state tables to get budget data, population data, and quality rating.\n",
    "# Calcuate medicaid dollars per citizen using population information\n",
    "q2 = \"\"\"SELECT overall_rating as 'Quality Rating',\n",
    "                ROUND(((PC_Medicaid * Millions)/ Population) * 1000000) as 'Medicaid Dollars Per Citizen' \n",
    "        FROM state JOIN state3 \n",
    "            ON state.state = state3.state\n",
    "                JOIN state2\n",
    "            ON state.state = state2.state\n",
    "    \"\"\"\n",
    "# Read sql into dataframe and view\n",
    "df2= pd.read_sql(q2, conn)\n",
    "df2.head()"
   ]
  },
  {
   "cell_type": "code",
   "execution_count": 38,
   "id": "0eec01eb",
   "metadata": {},
   "outputs": [
    {
     "data": {
      "image/png": "[encoded data removed]",
      "text/plain": [
       "<Figure size 432x288 with 1 Axes>"
      ]
     },
     "metadata": {
      "needs_background": "light"
     },
     "output_type": "display_data"
    }
   ],
   "source": [
    "# VISUALZATION 2\n",
    "# Create scatter plot of medicaid funds per citizen vs quality in nursing homes\n",
    "plt.figure()\n",
    "plt.scatter(df2['Medicaid Dollars Per Citizen'], df2['Quality Rating']) \n",
    "plt.xlabel('Medicaid Dollars Per Citizen')\n",
    "plt.ylabel('Quality Rating')\n",
    "plt.title('STATE NURSING HOME QUALITY & MEDICAID FUNDING')\n",
    "\n",
    "plt.show()"
   ]
  },
  {
   "cell_type": "markdown",
   "id": "abb9aee0",
   "metadata": {},
   "source": [
    "3. How are average quality ratings for nursing homes impacted by simply having more nursing homes, or greater variability? "
   ]
  },
  {
   "cell_type": "code",
   "execution_count": 40,
   "id": "b6b27c22",
   "metadata": {},
   "outputs": [
    {
     "data": {
      "text/html": [
       "<div>\n",
       "<style scoped>\n",
       "    .dataframe tbody tr th:only-of-type {\n",
       "        vertical-align: middle;\n",
       "    }\n",
       "\n",
       "    .dataframe tbody tr th {\n",
       "        vertical-align: top;\n",
       "    }\n",
       "\n",
       "    .dataframe thead th {\n",
       "        text-align: right;\n",
       "    }\n",
       "</style>\n",
       "<table border=\"1\" class=\"dataframe\">\n",
       "  <thead>\n",
       "    <tr style=\"text-align: right;\">\n",
       "      <th></th>\n",
       "      <th>overall_rating</th>\n",
       "      <th>nursing_home_count</th>\n",
       "    </tr>\n",
       "  </thead>\n",
       "  <tbody>\n",
       "    <tr>\n",
       "      <th>0</th>\n",
       "      <td>3.85</td>\n",
       "      <td>20</td>\n",
       "    </tr>\n",
       "    <tr>\n",
       "      <th>1</th>\n",
       "      <td>3.66</td>\n",
       "      <td>227</td>\n",
       "    </tr>\n",
       "    <tr>\n",
       "      <th>2</th>\n",
       "      <td>3.28</td>\n",
       "      <td>220</td>\n",
       "    </tr>\n",
       "    <tr>\n",
       "      <th>3</th>\n",
       "      <td>2.99</td>\n",
       "      <td>142</td>\n",
       "    </tr>\n",
       "    <tr>\n",
       "      <th>4</th>\n",
       "      <td>3.28</td>\n",
       "      <td>1176</td>\n",
       "    </tr>\n",
       "  </tbody>\n",
       "</table>\n",
       "</div>"
      ],
      "text/plain": [
       "   overall_rating  nursing_home_count\n",
       "0            3.85                  20\n",
       "1            3.66                 227\n",
       "2            3.28                 220\n",
       "3            2.99                 142\n",
       "4            3.28                1176"
      ]
     },
     "execution_count": 40,
     "metadata": {},
     "output_type": "execute_result"
    }
   ],
   "source": [
    "# VISUALIZATION 3\n",
    "# To capture a larger sample of this potential effect, will use county level data to increase sample size\n",
    "# Query nursing home quality ratings from county tables and compare to nursing home counts for each county\n",
    "q3 = \"\"\"SELECT overall_rating, nursing_home_count\n",
    "        FROM state\"\"\"\n",
    "\n",
    "# Read sql into dataframe and view\n",
    "df3= pd.read_sql(q3, conn)\n",
    "df3.head()"
   ]
  },
  {
   "cell_type": "code",
   "execution_count": 41,
   "id": "3ee45bec",
   "metadata": {},
   "outputs": [
    {
     "data": {
      "image/png": "[encoded data removed]",
      "text/plain": [
       "<Figure size 432x288 with 1 Axes>"
      ]
     },
     "metadata": {
      "needs_background": "light"
     },
     "output_type": "display_data"
    }
   ],
   "source": [
    "plt.figure()\n",
    "plt.scatter(df3['nursing_home_count'], df3['overall_rating']) \n",
    "plt.xlabel('Nursing Homes Per State')\n",
    "plt.ylabel('Quality Rating')\n",
    "plt.title('NURSING HOME QUALTIY & NURSING HOME COUNT')\n",
    "\n",
    "plt.show()"
   ]
  },
  {
   "cell_type": "markdown",
   "id": "29758061",
   "metadata": {},
   "source": [
    "4. My experience suggests that one of most important factors of care is the ratio is staff availability or staff ratio to patients. The data I have saved does not include staff ratios, however it does have values representing the total hours time nursing staff per resident per day. Does the data show that having more potential time with nursing staff relates to higher overall quality?"
   ]
  },
  {
   "cell_type": "code",
   "execution_count": 42,
   "id": "d6e51566",
   "metadata": {},
   "outputs": [
    {
     "data": {
      "text/html": [
       "<div>\n",
       "<style scoped>\n",
       "    .dataframe tbody tr th:only-of-type {\n",
       "        vertical-align: middle;\n",
       "    }\n",
       "\n",
       "    .dataframe tbody tr th {\n",
       "        vertical-align: top;\n",
       "    }\n",
       "\n",
       "    .dataframe thead th {\n",
       "        text-align: right;\n",
       "    }\n",
       "</style>\n",
       "<table border=\"1\" class=\"dataframe\">\n",
       "  <thead>\n",
       "    <tr style=\"text-align: right;\">\n",
       "      <th></th>\n",
       "      <th>0-1</th>\n",
       "      <th>1-2</th>\n",
       "      <th>2-3</th>\n",
       "      <th>3-4</th>\n",
       "      <th>4-5</th>\n",
       "    </tr>\n",
       "  </thead>\n",
       "  <tbody>\n",
       "    <tr>\n",
       "      <th>0</th>\n",
       "      <td>3.31882</td>\n",
       "      <td>3.590887</td>\n",
       "      <td>3.678061</td>\n",
       "      <td>3.899189</td>\n",
       "      <td>4.266955</td>\n",
       "    </tr>\n",
       "  </tbody>\n",
       "</table>\n",
       "</div>"
      ],
      "text/plain": [
       "       0-1       1-2       2-3       3-4       4-5\n",
       "0  3.31882  3.590887  3.678061  3.899189  4.266955"
      ]
     },
     "execution_count": 42,
     "metadata": {},
     "output_type": "execute_result"
    }
   ],
   "source": [
    "# VISUALIZATION 4\n",
    "# group ratings 1 through 5 and get average hours nursing staff per resident daily.\n",
    "\n",
    "q5 = \"\"\"SELECT \n",
    "        (SELECT AVG(total_nurse_hrspres) FROM county WHERE overall_rating <=1) AS \"0-1\",\n",
    "        (SELECT AVG(total_nurse_hrspres) FROM county WHERE overall_rating > 1 AND overall_rating <=2 ) AS \"1-2\",\n",
    "        (SELECT AVG(total_nurse_hrspres) FROM county WHERE overall_rating > 2 AND overall_rating <=3) AS \"2-3\",\n",
    "        (SELECT AVG(total_nurse_hrspres) FROM county WHERE overall_rating > 3 AND overall_rating <=4) AS \"3-4\",\n",
    "        (SELECT AVG(total_nurse_hrspres) FROM county WHERE overall_rating > 4) AS \"4-5\"\n",
    "    \"\"\"\n",
    "\n",
    "df5 = pd.read_sql(q5, conn)\n",
    "df5"
   ]
  },
  {
   "cell_type": "code",
   "execution_count": 43,
   "id": "58579ba1",
   "metadata": {},
   "outputs": [],
   "source": [
    "rating = df5.iloc[0].values"
   ]
  },
  {
   "cell_type": "code",
   "execution_count": 44,
   "id": "ef3672db",
   "metadata": {},
   "outputs": [
    {
     "data": {
      "text/plain": [
       "Text(0.5, 1.0, 'NURSE HOURS PER RESIDENT & NURSING HOME QUALITY')"
      ]
     },
     "execution_count": 44,
     "metadata": {},
     "output_type": "execute_result"
    },
    {
     "data": {
      "image/png": "[encoded data removed]",
      "text/plain": [
       "<Figure size 432x288 with 1 Axes>"
      ]
     },
     "metadata": {
      "needs_background": "light"
     },
     "output_type": "display_data"
    }
   ],
   "source": [
    "# Create bar chart, bars for each rating 1-5 and show average nursing staff hours per resident\n",
    "x = np.arange(5)\n",
    "width = 0.8\n",
    "\n",
    "# plot data for bar type visualization\n",
    "plt.bar(x-0.1, rating, width, color='violet')\n",
    "plt.xticks(x, ['0-1', '1-2', '2-3', '3-4', '4-5'])\n",
    "\n",
    "# Create labels\n",
    "plt.xlabel('QUALITY RATING (1-5)')\n",
    "plt.ylabel('HOURS DAILY PER RESIDENT')\n",
    "plt.title('NURSE HOURS PER RESIDENT & NURSING HOME QUALITY')"
   ]
  },
  {
   "cell_type": "markdown",
   "id": "6cabaeb3",
   "metadata": {},
   "source": [
    "5. How does quality rating relate to nursing staff turn-over?"
   ]
  },
  {
   "cell_type": "code",
   "execution_count": 49,
   "id": "c28fdd31",
   "metadata": {},
   "outputs": [
    {
     "data": {
      "text/html": [
       "<div>\n",
       "<style scoped>\n",
       "    .dataframe tbody tr th:only-of-type {\n",
       "        vertical-align: middle;\n",
       "    }\n",
       "\n",
       "    .dataframe tbody tr th {\n",
       "        vertical-align: top;\n",
       "    }\n",
       "\n",
       "    .dataframe thead th {\n",
       "        text-align: right;\n",
       "    }\n",
       "</style>\n",
       "<table border=\"1\" class=\"dataframe\">\n",
       "  <thead>\n",
       "    <tr style=\"text-align: right;\">\n",
       "      <th></th>\n",
       "      <th>overall_rating</th>\n",
       "      <th>nursing_turnover</th>\n",
       "    </tr>\n",
       "  </thead>\n",
       "  <tbody>\n",
       "    <tr>\n",
       "      <th>0</th>\n",
       "      <td>3.85</td>\n",
       "      <td>53.36</td>\n",
       "    </tr>\n",
       "    <tr>\n",
       "      <th>1</th>\n",
       "      <td>3.66</td>\n",
       "      <td>47.54</td>\n",
       "    </tr>\n",
       "    <tr>\n",
       "      <th>2</th>\n",
       "      <td>3.28</td>\n",
       "      <td>55.52</td>\n",
       "    </tr>\n",
       "    <tr>\n",
       "      <th>3</th>\n",
       "      <td>2.99</td>\n",
       "      <td>55.11</td>\n",
       "    </tr>\n",
       "    <tr>\n",
       "      <th>4</th>\n",
       "      <td>3.28</td>\n",
       "      <td>49.73</td>\n",
       "    </tr>\n",
       "  </tbody>\n",
       "</table>\n",
       "</div>"
      ],
      "text/plain": [
       "   overall_rating  nursing_turnover\n",
       "0            3.85             53.36\n",
       "1            3.66             47.54\n",
       "2            3.28             55.52\n",
       "3            2.99             55.11\n",
       "4            3.28             49.73"
      ]
     },
     "execution_count": 49,
     "metadata": {},
     "output_type": "execute_result"
    }
   ],
   "source": [
    "# Query quality ratings of nursing homes with rates of nursing staff turnover at state level\n",
    "q5 = \"\"\"SELECT overall_rating, nursing_turnover\n",
    "        FROM state\n",
    "        WHERE nursing_turnover > 30\n",
    "    \"\"\"\n",
    "\n",
    "df5 = pd.read_sql(q5, conn)\n",
    "df5.head()"
   ]
  },
  {
   "cell_type": "code",
   "execution_count": 50,
   "id": "e090d7e8",
   "metadata": {},
   "outputs": [
    {
     "data": {
      "image/png": "[encoded data removed]",
      "text/plain": [
       "<Figure size 432x288 with 1 Axes>"
      ]
     },
     "metadata": {
      "needs_background": "light"
     },
     "output_type": "display_data"
    }
   ],
   "source": [
    "plt.figure()\n",
    "plt.scatter(df5['nursing_turnover'],df5['overall_rating']) \n",
    "plt.ylabel('Quality')\n",
    "plt.xlabel('Nursing Staff Turnover')\n",
    "plt.title('NURSING HOME QUALITY & NURSING STAFF TURNOVER')\n",
    "\n",
    "plt.show()"
   ]
  },
  {
   "cell_type": "code",
   "execution_count": null,
   "id": "fcbdab0e",
   "metadata": {},
   "outputs": [],
   "source": [
    "# Close connection\n",
    "conn.close()"
   ]
  },
  {
   "cell_type": "markdown",
   "id": "54e56a6a",
   "metadata": {},
   "source": [
    "## Summary"
   ]
  },
  {
   "cell_type": "markdown",
   "id": "541e9b8f",
   "metadata": {},
   "source": [
    "The completion of this project required a long list of skills. The transformations required included sub-setting, renaming, reindexing, adding new columns of calculated information based on other columns, dropping columns, multi-indexing, changing data types, string manipulation, applying column wise calculations to change values as needed, and using value counts to help build new tables at higher levels of scope. Many of these skills are familiar to me, but after repeated practice for this project, I no longer need to reference materials to perform most of these transformations. \n",
    "\n",
    "I think web scraping for sources was the most impactful of skills in that I learned to appreciate being playful and curious with web page information. I previously did not understand Inspector and was cautious of interacting with inspector and cautious with page url parameters. For this project, it was not enough to hope what I want to find would stick out and allow me to see it, I had to dig around. Using the inspector console view to dig through \"GET\" page requests and playing with parameters lead to a great amount of learning. I was able to essentially test the limits of parameters available to me and use that make the most of my own requests. \n",
    "\n",
    "Practicing SQL for the first time has been the next-most interesting skill this project has required. Building my queries and joining tables in the process came quickly, once I begun. I had to learn to make multiple select statements in one query to essentially create bins of discrete data, which was a first for me. I learned to query data with more than one constraint and read my queries into data frames for visualizations. \n",
    "\n",
    "**Cleansing Ethics** \n",
    "\n",
    "Working with nursing home data, which an emphasis on quality, is complex topic with a web of potential influence factors.  Finding the hint of any relationship between variables, is far from a finding a target for influencing nursing home quality. With that in mind, it is even more important data maintains its integrity for analysis purposes. My data sets were from dedicated organizations, and they required little to no major changes and had virtually no problematic or missing values. My supporting data sets were similar in quality.   \n",
    "\n",
    "Nursing home quality was my target variable and I found it was heavily weighted in a mid-high range as most homes had good ratings. Nursing homes with the worst ratings, incredibly high rates of violations and complaints were few, but very extreme. It was temping to eliminate them from my set, however, to categorize them as outliers would be a misrepresentation. They were not outliers by any fluke and they represent a reality where things go very wrong and as such, they are of equal interest for this data. If I had chosen to cut loose 30 to even 300 data points out of over 15 thousand, I would only learn less about what may influence the range of quality across nursing homes. \n"
   ]
  }
 ],
 "metadata": {
  "kernelspec": {
   "display_name": "Python 3",
   "language": "python",
   "name": "python3"
  },
  "language_info": {
   "codemirror_mode": {
    "name": "ipython",
    "version": 3
   },
   "file_extension": ".py",
   "mimetype": "text/x-python",
   "name": "python",
   "nbconvert_exporter": "python",
   "pygments_lexer": "ipython3",
   "version": "3.8.8"
  }
 },
 "nbformat": 4,
 "nbformat_minor": 5
}
